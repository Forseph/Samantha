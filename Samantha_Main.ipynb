{
 "cells": [
  {
   "cell_type": "markdown",
   "metadata": {},
   "source": [
    "# Main File for the Samantha Project\n",
    "## Start with the stop words and cleaning data"
   ]
  },
  {
   "cell_type": "code",
   "execution_count": 430,
   "metadata": {},
   "outputs": [],
   "source": [
    "import numpy as np\n",
    "import re\n",
    "import pandas as pd"
   ]
  },
  {
   "cell_type": "markdown",
   "metadata": {},
   "source": [
    "#### The functions below will gather and clean the data"
   ]
  },
  {
   "cell_type": "code",
   "execution_count": 431,
   "metadata": {},
   "outputs": [],
   "source": [
    "def read_data(file_name):  # Read our files in\n",
    "    return pd.read_csv(file_name,header = 0,names=['Reviews','Rating','Movie'])"
   ]
  },
  {
   "cell_type": "code",
   "execution_count": 432,
   "metadata": {},
   "outputs": [],
   "source": [
    "def obtain_stopword_set(file_name):  # Place all stopwords in a Set\n",
    "    stopwords = [stopword.strip('\\n') for stopword in open(file_name)]\n",
    "    stopwords = set(stopwords)\n",
    "    return stopwords"
   ]
  },
  {
   "cell_type": "code",
   "execution_count": 433,
   "metadata": {},
   "outputs": [],
   "source": [
    "def clean_review(review):   # Clean out the movie review columns\n",
    "    words = (re.sub('[^a-zA-Z]', ' ', review)).upper().split()\n",
    "    stop_words = obtain_stopword_set('stopwords.csv')\n",
    "    tokens = [word for word in words if not word in stop_words]   # borrowed for loop \n",
    "    return \" \".join(tokens)"
   ]
  },
  {
   "cell_type": "markdown",
   "metadata": {},
   "source": [
    "#### Implement the clean-up "
   ]
  },
  {
   "cell_type": "code",
   "execution_count": 445,
   "metadata": {},
   "outputs": [],
   "source": [
    "# Place reviews in \"data\" DataFrame\n",
    "data = read_data(\"Review_data .csv\")\n",
    "\n",
    "# Clean the reviews up\n",
    "i=0\n",
    "total_rows = len(data['Reviews'].index)\n",
    "\n",
    "for i in range(total_rows):\n",
    "    data.loc[i,'Reviews'] = clean_review(data['Reviews'][i])"
   ]
  },
  {
   "cell_type": "markdown",
   "metadata": {},
   "source": [
    "#### The cell below has the cleaned out movie reviews!"
   ]
  },
  {
   "cell_type": "code",
   "execution_count": 444,
   "metadata": {},
   "outputs": [
    {
     "data": {
      "text/plain": [
       "0    ANDY S TOYS LIVE A REASONABLE LIFE OF FUN AND ...\n",
       "1    I AM A BIG FAN OF THE ANIMATED MOVIES COMING F...\n",
       "2    Y KNOW I ALWAYS SUSPECTED THAT MY TOYS WERE CO...\n",
       "3    WHILE I GIVE THIS ONE STAR I STRONGLY ENCOURAG...\n",
       "4    FROM THE PRESTIGE ASYLUM FILMS COMES ANOTHER O...\n",
       "5    ABSOLUTELY ATROCIOUS I HAD BIG EXPECTATIONS BE...\n",
       "6    FROM THE PEOPLE THAT BROUGHT YOU MEGA SHARK VS...\n",
       "Name: Reviews, dtype: object"
      ]
     },
     "execution_count": 444,
     "metadata": {},
     "output_type": "execute_result"
    }
   ],
   "source": [
    "data['Reviews']"
   ]
  },
  {
   "cell_type": "code",
   "execution_count": null,
   "metadata": {},
   "outputs": [],
   "source": []
  },
  {
   "cell_type": "code",
   "execution_count": null,
   "metadata": {},
   "outputs": [],
   "source": []
  },
  {
   "cell_type": "code",
   "execution_count": null,
   "metadata": {},
   "outputs": [],
   "source": []
  }
 ],
 "metadata": {
  "kernelspec": {
   "display_name": "Python 2",
   "language": "python",
   "name": "python2"
  },
  "language_info": {
   "codemirror_mode": {
    "name": "ipython",
    "version": 2
   },
   "file_extension": ".py",
   "mimetype": "text/x-python",
   "name": "python",
   "nbconvert_exporter": "python",
   "pygments_lexer": "ipython2",
   "version": "2.7.12"
  }
 },
 "nbformat": 4,
 "nbformat_minor": 2
}

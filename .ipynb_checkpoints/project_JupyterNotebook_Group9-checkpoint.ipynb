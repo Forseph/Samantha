{
 "cells": [
  {
   "cell_type": "markdown",
   "metadata": {},
   "source": [
    "Section 0: Import all necessary modules"
   ]
  },
  {
   "cell_type": "code",
   "execution_count": 1,
   "metadata": {
    "collapsed": true
   },
   "outputs": [],
   "source": [
    "# Import modules\n",
    "\n",
    "import json\n",
    "import numpy as np\n",
    "import pandas as pd\n",
    "import collections\n",
    "from sklearn.feature_extraction.text import CountVectorizer\n",
    "from sklearn.naive_bayes import MultinomialNB\n",
    "from sklearn import metrics\n",
    "import matplotlib.pyplot as plt\n",
    "from sklearn.linear_model import LogisticRegression"
   ]
  },
  {
   "cell_type": "markdown",
   "metadata": {},
   "source": [
    "Section 1: Write all functions needed to execute the algorithms"
   ]
  },
  {
   "cell_type": "code",
   "execution_count": 2,
   "metadata": {
    "collapsed": true
   },
   "outputs": [],
   "source": [
    "# Input: filename to a json file containing the desired dictionary\n",
    "# Output: Return the dictionary obtained from the file\n",
    "# Read in all json files created from the datacollection.py script\n",
    "# json files contain dictionary of {review1: rating1, review2: rating2, ... , reviewn: ratingn}\n",
    "def getjsons(filename):\n",
    "    with open(filename, 'r') as fp:\n",
    "        return json.load(fp)"
   ]
  },
  {
   "cell_type": "code",
   "execution_count": 3,
   "metadata": {
    "collapsed": true
   },
   "outputs": [],
   "source": [
    "# Input: a movie DataFrame\n",
    "# Output: Return an array containing the sentiments from the ratings\n",
    "# Sentiment is obtained by looping through all of the ratings\n",
    "# 3.0 stars or above is given \"Positive\" and 2.5 stars or below is given \"Negative\"\n",
    "def getsentiment(df):\n",
    "    sentiments = []\n",
    "    for val in df['Rating']:\n",
    "        if float(val) >= 3.0:\n",
    "            sentiments.append(\"Positive\")\n",
    "        else:\n",
    "            sentiments.append(\"Negative\")\n",
    "    return np.array(sentiments)"
   ]
  },
  {
   "cell_type": "code",
   "execution_count": 4,
   "metadata": {
    "collapsed": true
   },
   "outputs": [],
   "source": [
    "# Input: dictionary containing reviews mapped to ratings\n",
    "# Output: Return a Pandas DataFrame containing reviews in column 1, ratings in column 2, sentiment in column 3\n",
    "# Sentiment is obtained by the getsentiment function\n",
    "def createdf(dictionary):\n",
    "    df = pd.DataFrame(dictionary.items(), columns = ['Review', 'Rating'], dtype=None)\n",
    "    df['Sentiment'] = getsentiment(df)\n",
    "    return df"
   ]
  },
  {
   "cell_type": "code",
   "execution_count": 5,
   "metadata": {
    "collapsed": true
   },
   "outputs": [],
   "source": [
    "# Input: a movie DataFrame and the name of the movie\n",
    "# Output: Obtain and print out the 20 most common words from each given movie\n",
    "def mostcommon(df, name):\n",
    "    # Initialize empty counts array (will contain dictionary of counts to their words)\n",
    "    counts = []\n",
    "    # Initialize a CountVectorizer\n",
    "    vector = CountVectorizer()\n",
    "    # Create a DataFrame containing words and their counts\n",
    "    words = df['Review']\n",
    "    dtm = vector.fit(words.values.astype('U'))\n",
    "    names = dtm.get_feature_names()\n",
    "    dtm = vector.fit_transform(words.values.astype('U'))\n",
    "    dtm_dense = dtm.todense()\n",
    "    df = pd.DataFrame(dtm_dense, columns=names)\n",
    "    for col in df:\n",
    "        counts.append((df[col].sum(), col))\n",
    "    print \"\\nTop 20 words to describe\", name\n",
    "    # Sort the dictionary by count and print out word correlated to count in top 20 counts\n",
    "    for i in sorted(counts)[-20:]:\n",
    "        print i[1], \":\", i[0]"
   ]
  },
  {
   "cell_type": "code",
   "execution_count": 6,
   "metadata": {
    "collapsed": true
   },
   "outputs": [],
   "source": [
    "# Input: training and testing data\n",
    "# Output: returns the accuracy score obtained from naive bayes algorithm\n",
    "def naive_bayes(train, test):\n",
    "    # Map positive as 1, negative as 0 for training and testing data\n",
    "    train['Label_num'] = train.Sentiment.map({'Positive':1, 'Negative':0})\n",
    "    test['Label_num'] = test.Sentiment.map({'Positive':1, 'Negative':0})\n",
    "\n",
    "    # X (train and test) will be the review, y will be positive or negative\n",
    "    X_train = train.Review\n",
    "    y_train = train.Label_num\n",
    "    X_test = test.Review\n",
    "    y_test = test.Label_num\n",
    "    \n",
    "    # Initialize a CountVectorizer\n",
    "    vector = CountVectorizer()\n",
    "    # Create document-term matrices (note: astype('U') deals with strange unicode characters)\n",
    "    X_train_dtm = vector.fit_transform(X_train.values.astype('U'))\n",
    "    X_test_dtm = vector.transform(X_test.values.astype('U'))\n",
    "\n",
    "    # Initialize a MultinomialNB object\n",
    "    nb = MultinomialNB()\n",
    "    # Fit the data\n",
    "    nb.fit(X_train_dtm, y_train)\n",
    "    # Predict values with X testing data\n",
    "    y_pred_class = nb.predict(X_test_dtm)\n",
    "\n",
    "    # Grab accuracy score and return\n",
    "    score = metrics.accuracy_score(y_test, y_pred_class)\n",
    "    return score"
   ]
  },
  {
   "cell_type": "code",
   "execution_count": 7,
   "metadata": {
    "collapsed": true
   },
   "outputs": [],
   "source": [
    "# Input: training and testing data\n",
    "# Output: returns the accuracy score obtained from logistic regression algorithm\n",
    "def log_reg(train, test):\n",
    "    # Map positive to 1, negative to 0 for training and testing data\n",
    "    train['Label_num'] = train.Sentiment.map({'Positive':1, 'Negative':0})\n",
    "    test['Label_num'] = test.Sentiment.map({'Positive':1, 'Negative':0})\n",
    "\n",
    "    # X (train and test) is the review, y is the positive or negative sentiment\n",
    "    X_train = train.Review\n",
    "    y_train = train.Label_num\n",
    "    X_test = test.Review\n",
    "    y_test = test.Label_num\n",
    "    \n",
    "    # Initailize CountVectorizer object and create document-term matrices (note: astype('U') handles strange unicode characters)\n",
    "    vector = CountVectorizer()\n",
    "    X_train_dtm = vector.fit_transform(X_train.values.astype('U'))\n",
    "    X_test_dtm = vector.transform(X_test.values.astype('U'))\n",
    "    \n",
    "    # Initialize LogisticRegression object and fit the data\n",
    "    logistic = LogisticRegression()\n",
    "    logistic.fit(X_train_dtm, y_train)\n",
    "    \n",
    "    # Obtain predicted result and return the accuracy score\n",
    "    y_predicted_class = logistic.predict(X_test_dtm)\n",
    "    return metrics.accuracy_score(y_test, y_predicted_class)"
   ]
  },
  {
   "cell_type": "markdown",
   "metadata": {},
   "source": [
    "Section 2: Grab all data from files, preprocess the data into training and testing DataFrames"
   ]
  },
  {
   "cell_type": "code",
   "execution_count": 8,
   "metadata": {},
   "outputs": [
    {
     "ename": "IOError",
     "evalue": "[Errno 2] No such file or directory: 'starwars.json'",
     "output_type": "error",
     "traceback": [
      "\u001b[0;31m---------------------------------------------------------------------------\u001b[0m",
      "\u001b[0;31mIOError\u001b[0m                                   Traceback (most recent call last)",
      "\u001b[0;32m<ipython-input-8-a5edbc23fbf3>\u001b[0m in \u001b[0;36m<module>\u001b[0;34m()\u001b[0m\n\u001b[1;32m      1\u001b[0m \u001b[0;31m# Use getjsons function to obtain dictionaries for all movies where {review1: rating1, ... , reviewn: ratingn}\u001b[0m\u001b[0;34m\u001b[0m\u001b[0;34m\u001b[0m\u001b[0m\n\u001b[0;32m----> 2\u001b[0;31m \u001b[0mstarwars\u001b[0m \u001b[0;34m=\u001b[0m \u001b[0mgetjsons\u001b[0m\u001b[0;34m(\u001b[0m\u001b[0;34m\"starwars.json\"\u001b[0m\u001b[0;34m)\u001b[0m\u001b[0;34m\u001b[0m\u001b[0m\n\u001b[0m\u001b[1;32m      3\u001b[0m \u001b[0mabouttime\u001b[0m \u001b[0;34m=\u001b[0m \u001b[0mgetjsons\u001b[0m\u001b[0;34m(\u001b[0m\u001b[0;34m\"abouttime.json\"\u001b[0m\u001b[0;34m)\u001b[0m\u001b[0;34m\u001b[0m\u001b[0m\n\u001b[1;32m      4\u001b[0m \u001b[0mtaken\u001b[0m \u001b[0;34m=\u001b[0m \u001b[0mgetjsons\u001b[0m\u001b[0;34m(\u001b[0m\u001b[0;34m\"taken.json\"\u001b[0m\u001b[0;34m)\u001b[0m\u001b[0;34m\u001b[0m\u001b[0m\n\u001b[1;32m      5\u001b[0m \u001b[0mtoystory\u001b[0m \u001b[0;34m=\u001b[0m \u001b[0mgetjsons\u001b[0m\u001b[0;34m(\u001b[0m\u001b[0;34m\"toystory.json\"\u001b[0m\u001b[0;34m)\u001b[0m\u001b[0;34m\u001b[0m\u001b[0m\n",
      "\u001b[0;32m<ipython-input-2-171362a5bfd9>\u001b[0m in \u001b[0;36mgetjsons\u001b[0;34m(filename)\u001b[0m\n\u001b[1;32m      4\u001b[0m \u001b[0;31m# json files contain dictionary of {review1: rating1, review2: rating2, ... , reviewn: ratingn}\u001b[0m\u001b[0;34m\u001b[0m\u001b[0;34m\u001b[0m\u001b[0m\n\u001b[1;32m      5\u001b[0m \u001b[0;32mdef\u001b[0m \u001b[0mgetjsons\u001b[0m\u001b[0;34m(\u001b[0m\u001b[0mfilename\u001b[0m\u001b[0;34m)\u001b[0m\u001b[0;34m:\u001b[0m\u001b[0;34m\u001b[0m\u001b[0m\n\u001b[0;32m----> 6\u001b[0;31m     \u001b[0;32mwith\u001b[0m \u001b[0mopen\u001b[0m\u001b[0;34m(\u001b[0m\u001b[0mfilename\u001b[0m\u001b[0;34m,\u001b[0m \u001b[0;34m'r'\u001b[0m\u001b[0;34m)\u001b[0m \u001b[0;32mas\u001b[0m \u001b[0mfp\u001b[0m\u001b[0;34m:\u001b[0m\u001b[0;34m\u001b[0m\u001b[0m\n\u001b[0m\u001b[1;32m      7\u001b[0m         \u001b[0;32mreturn\u001b[0m \u001b[0mjson\u001b[0m\u001b[0;34m.\u001b[0m\u001b[0mload\u001b[0m\u001b[0;34m(\u001b[0m\u001b[0mfp\u001b[0m\u001b[0;34m)\u001b[0m\u001b[0;34m\u001b[0m\u001b[0m\n",
      "\u001b[0;31mIOError\u001b[0m: [Errno 2] No such file or directory: 'starwars.json'"
     ]
    }
   ],
   "source": [
    "# Use getjsons function to obtain dictionaries for all movies where {review1: rating1, ... , reviewn: ratingn}\n",
    "starwars = getjsons(\"movies_data/starwars.json\")\n",
    "abouttime = getjsons(\"movies_data/abouttime.json\")\n",
    "taken = getjsons(\"movies_data/taken.json\")\n",
    "toystory = getjsons(\"movies_data/toystory.json\")\n",
    "cloudatlas = getjsons(\"movies_data/cloudatlas.json\")\n",
    "stepbrothers = getjsons(\"movies_data/stepbrothers.json\")\n",
    "saw = getjsons(\"movies_data/saw.json\")\n",
    "saw2 = getjsons(\"movies_data/saw2.json\")\n",
    "titanic = getjsons(\"movies_data/titanic.json\")\n",
    "piratesofthecaribbean = getjsons(\"movies_data/piratesofthecaribbean.json\")"
   ]
  },
  {
   "cell_type": "code",
   "execution_count": 9,
   "metadata": {},
   "outputs": [
    {
     "ename": "NameError",
     "evalue": "name 'starwars' is not defined",
     "output_type": "error",
     "traceback": [
      "\u001b[0;31m---------------------------------------------------------------------------\u001b[0m",
      "\u001b[0;31mNameError\u001b[0m                                 Traceback (most recent call last)",
      "\u001b[0;32m<ipython-input-9-29a7ce413699>\u001b[0m in \u001b[0;36m<module>\u001b[0;34m()\u001b[0m\n\u001b[1;32m      1\u001b[0m \u001b[0;31m# Call createdf function on all dictionaries\u001b[0m\u001b[0;34m\u001b[0m\u001b[0;34m\u001b[0m\u001b[0m\n\u001b[1;32m      2\u001b[0m \u001b[0;31m# DataFrames will have columns of Reviews, Ratings, and Sentiment\u001b[0m\u001b[0;34m\u001b[0m\u001b[0;34m\u001b[0m\u001b[0m\n\u001b[0;32m----> 3\u001b[0;31m \u001b[0mstarwars\u001b[0m \u001b[0;34m=\u001b[0m \u001b[0mcreatedf\u001b[0m\u001b[0;34m(\u001b[0m\u001b[0mstarwars\u001b[0m\u001b[0;34m)\u001b[0m\u001b[0;34m\u001b[0m\u001b[0m\n\u001b[0m\u001b[1;32m      4\u001b[0m \u001b[0mabouttime\u001b[0m \u001b[0;34m=\u001b[0m \u001b[0mcreatedf\u001b[0m\u001b[0;34m(\u001b[0m\u001b[0mabouttime\u001b[0m\u001b[0;34m)\u001b[0m\u001b[0;34m\u001b[0m\u001b[0m\n\u001b[1;32m      5\u001b[0m \u001b[0mtaken\u001b[0m \u001b[0;34m=\u001b[0m \u001b[0mcreatedf\u001b[0m\u001b[0;34m(\u001b[0m\u001b[0mtaken\u001b[0m\u001b[0;34m)\u001b[0m\u001b[0;34m\u001b[0m\u001b[0m\n",
      "\u001b[0;31mNameError\u001b[0m: name 'starwars' is not defined"
     ]
    }
   ],
   "source": [
    "# Call createdf function on all dictionaries\n",
    "# DataFrames will have columns of Reviews, Ratings, and Sentiment\n",
    "starwars = createdf(starwars)\n",
    "abouttime = createdf(abouttime)\n",
    "taken = createdf(taken)\n",
    "toystory = createdf(toystory)\n",
    "cloudatlas = createdf(cloudatlas)\n",
    "stepbrothers = createdf(stepbrothers)\n",
    "saw = createdf(saw)\n",
    "saw2 = createdf(saw2)\n",
    "titanic = createdf(titanic)\n",
    "piratesofthecaribbean = createdf(piratesofthecaribbean)"
   ]
  },
  {
   "cell_type": "code",
   "execution_count": 10,
   "metadata": {},
   "outputs": [
    {
     "ename": "NameError",
     "evalue": "name 'starwars' is not defined",
     "output_type": "error",
     "traceback": [
      "\u001b[0;31m---------------------------------------------------------------------------\u001b[0m",
      "\u001b[0;31mNameError\u001b[0m                                 Traceback (most recent call last)",
      "\u001b[0;32m<ipython-input-10-1b824d0aa3ee>\u001b[0m in \u001b[0;36m<module>\u001b[0;34m()\u001b[0m\n\u001b[1;32m      1\u001b[0m \u001b[0;31m# Obtain the 20 most common words for all movies and print results by calling mostcommon function\u001b[0m\u001b[0;34m\u001b[0m\u001b[0;34m\u001b[0m\u001b[0m\n\u001b[0;32m----> 2\u001b[0;31m \u001b[0mmostcommon\u001b[0m\u001b[0;34m(\u001b[0m\u001b[0mstarwars\u001b[0m\u001b[0;34m,\u001b[0m \u001b[0;34m\"Star Wars\"\u001b[0m\u001b[0;34m)\u001b[0m\u001b[0;34m\u001b[0m\u001b[0m\n\u001b[0m\u001b[1;32m      3\u001b[0m \u001b[0mmostcommon\u001b[0m\u001b[0;34m(\u001b[0m\u001b[0mabouttime\u001b[0m\u001b[0;34m,\u001b[0m \u001b[0;34m\"About Time\"\u001b[0m\u001b[0;34m)\u001b[0m\u001b[0;34m\u001b[0m\u001b[0m\n\u001b[1;32m      4\u001b[0m \u001b[0mmostcommon\u001b[0m\u001b[0;34m(\u001b[0m\u001b[0mtaken\u001b[0m\u001b[0;34m,\u001b[0m \u001b[0;34m\"Taken\"\u001b[0m\u001b[0;34m)\u001b[0m\u001b[0;34m\u001b[0m\u001b[0m\n\u001b[1;32m      5\u001b[0m \u001b[0mmostcommon\u001b[0m\u001b[0;34m(\u001b[0m\u001b[0mtoystory\u001b[0m\u001b[0;34m,\u001b[0m \u001b[0;34m\"Toy Story\"\u001b[0m\u001b[0;34m)\u001b[0m\u001b[0;34m\u001b[0m\u001b[0m\n",
      "\u001b[0;31mNameError\u001b[0m: name 'starwars' is not defined"
     ]
    }
   ],
   "source": [
    "# Obtain the 20 most common words for all movies and print results by calling mostcommon function\n",
    "mostcommon(starwars, \"Star Wars\")\n",
    "mostcommon(abouttime, \"About Time\")\n",
    "mostcommon(taken, \"Taken\")\n",
    "mostcommon(toystory, \"Toy Story\")\n",
    "mostcommon(cloudatlas, \"Cloud Atlas\")\n",
    "mostcommon(stepbrothers, \"Stepbrothers\")\n",
    "mostcommon(saw, \"Saw\")\n",
    "mostcommon(saw2, \"Saw 2\")\n",
    "mostcommon(titanic, \"Titanic\")\n",
    "mostcommon(piratesofthecaribbean, \"Pirates of the Caribbean\")"
   ]
  },
  {
   "cell_type": "code",
   "execution_count": 11,
   "metadata": {},
   "outputs": [
    {
     "ename": "NameError",
     "evalue": "name 'starwars' is not defined",
     "output_type": "error",
     "traceback": [
      "\u001b[0;31m---------------------------------------------------------------------------\u001b[0m",
      "\u001b[0;31mNameError\u001b[0m                                 Traceback (most recent call last)",
      "\u001b[0;32m<ipython-input-11-b0ccadd1a9ac>\u001b[0m in \u001b[0;36m<module>\u001b[0;34m()\u001b[0m\n\u001b[1;32m      4\u001b[0m \u001b[0;34m\u001b[0m\u001b[0m\n\u001b[1;32m      5\u001b[0m \u001b[0;31m# All dataframes in this list\u001b[0m\u001b[0;34m\u001b[0m\u001b[0;34m\u001b[0m\u001b[0m\n\u001b[0;32m----> 6\u001b[0;31m \u001b[0mdataframes\u001b[0m \u001b[0;34m=\u001b[0m \u001b[0;34m[\u001b[0m\u001b[0mstarwars\u001b[0m\u001b[0;34m,\u001b[0m \u001b[0mabouttime\u001b[0m\u001b[0;34m,\u001b[0m \u001b[0mtaken\u001b[0m\u001b[0;34m,\u001b[0m \u001b[0mtoystory\u001b[0m\u001b[0;34m,\u001b[0m \u001b[0mcloudatlas\u001b[0m\u001b[0;34m,\u001b[0m \u001b[0mstepbrothers\u001b[0m\u001b[0;34m,\u001b[0m \u001b[0msaw\u001b[0m\u001b[0;34m,\u001b[0m \u001b[0msaw2\u001b[0m\u001b[0;34m,\u001b[0m \u001b[0mtitanic\u001b[0m\u001b[0;34m,\u001b[0m \u001b[0mpiratesofthecaribbean\u001b[0m\u001b[0;34m]\u001b[0m\u001b[0;34m\u001b[0m\u001b[0m\n\u001b[0m\u001b[1;32m      7\u001b[0m \u001b[0;34m\u001b[0m\u001b[0m\n\u001b[1;32m      8\u001b[0m \u001b[0;31m# Go through and exclude two movie at a time; t1 can be obtained through dataframes[0:8], t5 through dataframes[2:10]\u001b[0m\u001b[0;34m\u001b[0m\u001b[0;34m\u001b[0m\u001b[0m\n",
      "\u001b[0;31mNameError\u001b[0m: name 'starwars' is not defined"
     ]
    }
   ],
   "source": [
    "# Create all training and testing data by creating lists (various combinations of the 10 movies)\n",
    "# Basically, train1-5 and test1-5 will loop through 2 movies at a time to accomplish 5-fold Cross Validation\n",
    "# train1-10_10 and test1-10_10 will loop through each movie at a time to accomplish 10-fold Cross Validation\n",
    "\n",
    "# All dataframes in this list\n",
    "dataframes = [starwars, abouttime, taken, toystory, cloudatlas, stepbrothers, saw, saw2, titanic, piratesofthecaribbean]\n",
    "\n",
    "# Go through and exclude two movie at a time; t1 can be obtained through dataframes[0:8], t5 through dataframes[2:10]\n",
    "t2 = [starwars, abouttime, taken, toystory, cloudatlas, stepbrothers, titanic, piratesofthecaribbean]\n",
    "t3 = [starwars, abouttime, taken, toystory, saw, saw2, titanic, piratesofthecaribbean]\n",
    "t4 = [starwars, abouttime, cloudatlas, stepbrothers, saw, saw2, titanic, piratesofthecaribbean]\n",
    "\n",
    "# Go through and exclude one movie at a time; t1_10 can be obtained through dataframes[0:9], t10_10 through dataframes[1:10]\n",
    "t2_10 = [starwars, abouttime, taken, toystory, cloudatlas, stepbrothers, saw, saw2, piratesofthecaribbean]\n",
    "t3_10 = [starwars, abouttime, taken, toystory, cloudatlas, stepbrothers, saw, titanic, piratesofthecaribbean]\n",
    "t4_10 = [starwars, abouttime, taken, toystory, cloudatlas, stepbrothers, saw2, titanic, piratesofthecaribbean]\n",
    "t5_10 = [starwars, abouttime, taken, toystory, cloudatlas, saw, saw2, titanic, piratesofthecaribbean]\n",
    "t6_10 = [starwars, abouttime, taken, toystory, stepbrothers, saw, saw2, titanic, piratesofthecaribbean]\n",
    "t7_10 = [starwars, abouttime, taken, cloudatlas, stepbrothers, saw, saw2, titanic, piratesofthecaribbean]\n",
    "t8_10 = [starwars, abouttime, cloudatlas, stepbrothers, saw, saw2, titanic, piratesofthecaribbean]\n",
    "t9_10 = [starwars, taken, cloudatlas, stepbrothers, saw, saw2, titanic, piratesofthecaribbean]\n",
    "\n",
    "# Here is all training and testing data for 5-fold Cross Validation\n",
    "train1 = pd.concat(dataframes[0:8])\n",
    "test1 = pd.concat(dataframes[8:10])\n",
    "train2 = pd.concat(t2)\n",
    "test2 = pd.concat(dataframes[6:8])\n",
    "train3 = pd.concat(t3)\n",
    "test3 = pd.concat(dataframes[4:6])\n",
    "train4 = pd.concat(t4)\n",
    "test4 = pd.concat(dataframes[2:4])\n",
    "train5 = pd.concat(dataframes[2:10])\n",
    "test5 = pd.concat(dataframes[0:2])\n",
    "\n",
    "# Here is all training data for 10-fold Cross Validation, the test data will be each individual movie\n",
    "train1_10 = pd.concat(dataframes[0:9])\n",
    "train2_10 = pd.concat(t2_10)\n",
    "train3_10 = pd.concat(t3_10)\n",
    "train4_10 = pd.concat(t4_10)\n",
    "train5_10 = pd.concat(t5_10)\n",
    "train6_10 = pd.concat(t6_10)\n",
    "train7_10 = pd.concat(t7_10)\n",
    "train8_10 = pd.concat(t8_10)\n",
    "train9_10 = pd.concat(t9_10)\n",
    "train10_10 = pd.concat(dataframes[1:10])"
   ]
  },
  {
   "cell_type": "markdown",
   "metadata": {},
   "source": [
    "Section 3: Utilize Naive Bayes and Logistic Regression Functions and Obtain Accuracy from Each Method"
   ]
  },
  {
   "cell_type": "code",
   "execution_count": 12,
   "metadata": {},
   "outputs": [
    {
     "ename": "NameError",
     "evalue": "name 'train1' is not defined",
     "output_type": "error",
     "traceback": [
      "\u001b[0;31m---------------------------------------------------------------------------\u001b[0m",
      "\u001b[0;31mNameError\u001b[0m                                 Traceback (most recent call last)",
      "\u001b[0;32m<ipython-input-12-4e2481b8098e>\u001b[0m in \u001b[0;36m<module>\u001b[0;34m()\u001b[0m\n\u001b[1;32m      1\u001b[0m \u001b[0;31m# Call naive_bayes function and obtain accuracy scores for all iterations of 5-fold Cross Validation\u001b[0m\u001b[0;34m\u001b[0m\u001b[0;34m\u001b[0m\u001b[0m\n\u001b[0;32m----> 2\u001b[0;31m \u001b[0mt1_5\u001b[0m \u001b[0;34m=\u001b[0m \u001b[0mnaive_bayes\u001b[0m\u001b[0;34m(\u001b[0m\u001b[0mtrain1\u001b[0m\u001b[0;34m,\u001b[0m \u001b[0mtest1\u001b[0m\u001b[0;34m)\u001b[0m\u001b[0;34m\u001b[0m\u001b[0m\n\u001b[0m\u001b[1;32m      3\u001b[0m \u001b[0mt2_5\u001b[0m \u001b[0;34m=\u001b[0m \u001b[0mnaive_bayes\u001b[0m\u001b[0;34m(\u001b[0m\u001b[0mtrain2\u001b[0m\u001b[0;34m,\u001b[0m \u001b[0mtest2\u001b[0m\u001b[0;34m)\u001b[0m\u001b[0;34m\u001b[0m\u001b[0m\n\u001b[1;32m      4\u001b[0m \u001b[0mt3_5\u001b[0m \u001b[0;34m=\u001b[0m \u001b[0mnaive_bayes\u001b[0m\u001b[0;34m(\u001b[0m\u001b[0mtrain3\u001b[0m\u001b[0;34m,\u001b[0m \u001b[0mtest3\u001b[0m\u001b[0;34m)\u001b[0m\u001b[0;34m\u001b[0m\u001b[0m\n\u001b[1;32m      5\u001b[0m \u001b[0mt4_5\u001b[0m \u001b[0;34m=\u001b[0m \u001b[0mnaive_bayes\u001b[0m\u001b[0;34m(\u001b[0m\u001b[0mtrain4\u001b[0m\u001b[0;34m,\u001b[0m \u001b[0mtest4\u001b[0m\u001b[0;34m)\u001b[0m\u001b[0;34m\u001b[0m\u001b[0m\n",
      "\u001b[0;31mNameError\u001b[0m: name 'train1' is not defined"
     ]
    }
   ],
   "source": [
    "# Call naive_bayes function and obtain accuracy scores for all iterations of 5-fold Cross Validation\n",
    "t1_5 = naive_bayes(train1, test1)\n",
    "t2_5 = naive_bayes(train2, test2)\n",
    "t3_5 = naive_bayes(train3, test3)\n",
    "t4_5 = naive_bayes(train4, test4)\n",
    "t5_5 = naive_bayes(train5, test5)\n",
    "\n",
    "t5_all = [t1_5, t2_5, t3_5, t4_5, t5_5]\n",
    "\n",
    "# Obtain the average score and print result\n",
    "score5_nb = np.mean(t5_all)\n",
    "print \"Average accuracy score using Naive Bayes 5-fold Cross Validation:\"\n",
    "print score5_nb\n",
    "\n",
    "# Call naive_bayes function and obtain accuracy scores for all iterations of 10-fold Cross Validation\n",
    "t1_10 = naive_bayes(train1_10, piratesofthecaribbean)\n",
    "t2_10 = naive_bayes(train2_10, titanic)\n",
    "t3_10 = naive_bayes(train3_10, saw2)\n",
    "t4_10 = naive_bayes(train4_10, saw)\n",
    "t5_10 = naive_bayes(train5_10, stepbrothers)\n",
    "t6_10 = naive_bayes(train6_10, cloudatlas)\n",
    "t7_10 = naive_bayes(train7_10, toystory)\n",
    "t8_10 = naive_bayes(train8_10, taken)\n",
    "t9_10 = naive_bayes(train9_10, abouttime)\n",
    "t10_10 = naive_bayes(train10_10, starwars)\n",
    "\n",
    "t10_all = [t1_10, t2_10, t3_10, t4_10, t5_10, t6_10, t7_10, t8_10, t9_10, t10_10]\n",
    "\n",
    "# Obtain the average score and print result\n",
    "score10_nb = np.mean(t10_all)\n",
    "print \"\\nAverage accuracy score using Naive Bayes 10-fold Cross Validation:\"\n",
    "print score10_nb"
   ]
  },
  {
   "cell_type": "code",
   "execution_count": 13,
   "metadata": {},
   "outputs": [
    {
     "ename": "NameError",
     "evalue": "name 'train1' is not defined",
     "output_type": "error",
     "traceback": [
      "\u001b[0;31m---------------------------------------------------------------------------\u001b[0m",
      "\u001b[0;31mNameError\u001b[0m                                 Traceback (most recent call last)",
      "\u001b[0;32m<ipython-input-13-d697deca6b54>\u001b[0m in \u001b[0;36m<module>\u001b[0;34m()\u001b[0m\n\u001b[1;32m      1\u001b[0m \u001b[0;31m# Call log_reg function and obtain accuracy scores for all iterations of 5-fold Cross Validation\u001b[0m\u001b[0;34m\u001b[0m\u001b[0;34m\u001b[0m\u001b[0m\n\u001b[0;32m----> 2\u001b[0;31m \u001b[0mt1\u001b[0m \u001b[0;34m=\u001b[0m \u001b[0mlog_reg\u001b[0m\u001b[0;34m(\u001b[0m\u001b[0mtrain1\u001b[0m\u001b[0;34m,\u001b[0m \u001b[0mtest1\u001b[0m\u001b[0;34m)\u001b[0m\u001b[0;34m\u001b[0m\u001b[0m\n\u001b[0m\u001b[1;32m      3\u001b[0m \u001b[0mt2\u001b[0m \u001b[0;34m=\u001b[0m \u001b[0mlog_reg\u001b[0m\u001b[0;34m(\u001b[0m\u001b[0mtrain2\u001b[0m\u001b[0;34m,\u001b[0m \u001b[0mtest2\u001b[0m\u001b[0;34m)\u001b[0m\u001b[0;34m\u001b[0m\u001b[0m\n\u001b[1;32m      4\u001b[0m \u001b[0mt3\u001b[0m \u001b[0;34m=\u001b[0m \u001b[0mlog_reg\u001b[0m\u001b[0;34m(\u001b[0m\u001b[0mtrain3\u001b[0m\u001b[0;34m,\u001b[0m \u001b[0mtest3\u001b[0m\u001b[0;34m)\u001b[0m\u001b[0;34m\u001b[0m\u001b[0m\n\u001b[1;32m      5\u001b[0m \u001b[0mt4\u001b[0m \u001b[0;34m=\u001b[0m \u001b[0mlog_reg\u001b[0m\u001b[0;34m(\u001b[0m\u001b[0mtrain4\u001b[0m\u001b[0;34m,\u001b[0m \u001b[0mtest4\u001b[0m\u001b[0;34m)\u001b[0m\u001b[0;34m\u001b[0m\u001b[0m\n",
      "\u001b[0;31mNameError\u001b[0m: name 'train1' is not defined"
     ]
    }
   ],
   "source": [
    "# Call log_reg function and obtain accuracy scores for all iterations of 5-fold Cross Validation\n",
    "t1 = log_reg(train1, test1)\n",
    "t2 = log_reg(train2, test2)\n",
    "t3 = log_reg(train3, test3)\n",
    "t4 = log_reg(train4, test4)\n",
    "t5 = log_reg(train5, test5)\n",
    "\n",
    "t5_all = [t1_5, t2_5, t3_5, t4_5, t5_5]\n",
    "\n",
    "# Obtain the average score and print result\n",
    "score5_log = np.mean(t5_all)\n",
    "print \"Average accuracy score using Logistic Regression 5-fold Cross Validation:\"\n",
    "print score5_log\n",
    "\n",
    "# Call log_reg function and obtain accuracy scores for all iterations of 10-fold Cross Validation\n",
    "t1_10 = log_reg(train1_10, piratesofthecaribbean)\n",
    "t2_10 = log_reg(train2_10, titanic)\n",
    "t3_10 = log_reg(train3_10, saw2)\n",
    "t4_10 = log_reg(train4_10, saw)\n",
    "t5_10 = log_reg(train5_10, stepbrothers)\n",
    "t6_10 = log_reg(train6_10, cloudatlas)\n",
    "t7_10 = log_reg(train7_10, toystory)\n",
    "t8_10 = log_reg(train8_10, taken)\n",
    "t9_10 = log_reg(train9_10, abouttime)\n",
    "t10_10 = log_reg(train10_10, starwars)\n",
    "\n",
    "t10_all = [t1_10, t2_10, t3_10, t4_10, t5_10, t6_10, t7_10, t8_10, t9_10, t10_10]\n",
    "\n",
    "# Obtain the average score and print result\n",
    "score10_log = np.mean(t10_all)\n",
    "print \"\\nAverage accuracy score using Logistic Regression 10-fold Cross Validation:\"\n",
    "print score10_log"
   ]
  },
  {
   "cell_type": "markdown",
   "metadata": {},
   "source": [
    "Section 4: Report all results in a table and a plot"
   ]
  },
  {
   "cell_type": "code",
   "execution_count": 14,
   "metadata": {},
   "outputs": [
    {
     "ename": "NameError",
     "evalue": "name 'score5_nb' is not defined",
     "output_type": "error",
     "traceback": [
      "\u001b[0;31m---------------------------------------------------------------------------\u001b[0m",
      "\u001b[0;31mNameError\u001b[0m                                 Traceback (most recent call last)",
      "\u001b[0;32m<ipython-input-14-e7d026f0a2bc>\u001b[0m in \u001b[0;36m<module>\u001b[0;34m()\u001b[0m\n\u001b[1;32m      1\u001b[0m \u001b[0;31m# Create a dataframe containing the results and print it out\u001b[0m\u001b[0;34m\u001b[0m\u001b[0;34m\u001b[0m\u001b[0m\n\u001b[0;32m----> 2\u001b[0;31m \u001b[0ms5\u001b[0m \u001b[0;34m=\u001b[0m \u001b[0mnp\u001b[0m\u001b[0;34m.\u001b[0m\u001b[0marray\u001b[0m\u001b[0;34m(\u001b[0m\u001b[0;34m[\u001b[0m\u001b[0mscore5_nb\u001b[0m\u001b[0;34m,\u001b[0m \u001b[0mscore5_log\u001b[0m\u001b[0;34m]\u001b[0m\u001b[0;34m)\u001b[0m\u001b[0;34m\u001b[0m\u001b[0m\n\u001b[0m\u001b[1;32m      3\u001b[0m \u001b[0ms10\u001b[0m \u001b[0;34m=\u001b[0m \u001b[0mnp\u001b[0m\u001b[0;34m.\u001b[0m\u001b[0marray\u001b[0m\u001b[0;34m(\u001b[0m\u001b[0;34m[\u001b[0m\u001b[0mscore10_nb\u001b[0m\u001b[0;34m,\u001b[0m \u001b[0mscore10_log\u001b[0m\u001b[0;34m]\u001b[0m\u001b[0;34m)\u001b[0m\u001b[0;34m\u001b[0m\u001b[0m\n\u001b[1;32m      4\u001b[0m \u001b[0mindex\u001b[0m \u001b[0;34m=\u001b[0m \u001b[0mnp\u001b[0m\u001b[0;34m.\u001b[0m\u001b[0marray\u001b[0m\u001b[0;34m(\u001b[0m\u001b[0;34m[\u001b[0m\u001b[0;34m\"5-fold\"\u001b[0m\u001b[0;34m,\u001b[0m \u001b[0;34m\"10-fold\"\u001b[0m\u001b[0;34m]\u001b[0m\u001b[0;34m)\u001b[0m\u001b[0;34m\u001b[0m\u001b[0m\n\u001b[1;32m      5\u001b[0m \u001b[0mresults\u001b[0m \u001b[0;34m=\u001b[0m \u001b[0mpd\u001b[0m\u001b[0;34m.\u001b[0m\u001b[0mDataFrame\u001b[0m\u001b[0;34m(\u001b[0m\u001b[0;34m[\u001b[0m\u001b[0ms5\u001b[0m\u001b[0;34m,\u001b[0m \u001b[0ms10\u001b[0m\u001b[0;34m]\u001b[0m\u001b[0;34m,\u001b[0m \u001b[0mcolumns\u001b[0m\u001b[0;34m=\u001b[0m\u001b[0;34m[\u001b[0m\u001b[0;34m'Naive Bayes'\u001b[0m\u001b[0;34m,\u001b[0m \u001b[0;34m'Logistic Regression'\u001b[0m\u001b[0;34m]\u001b[0m\u001b[0;34m,\u001b[0m \u001b[0mindex\u001b[0m\u001b[0;34m=\u001b[0m\u001b[0mindex\u001b[0m\u001b[0;34m)\u001b[0m\u001b[0;34m\u001b[0m\u001b[0m\n",
      "\u001b[0;31mNameError\u001b[0m: name 'score5_nb' is not defined"
     ]
    }
   ],
   "source": [
    "# Create a dataframe containing the results and print it out\n",
    "s5 = np.array([score5_nb, score5_log])\n",
    "s10 = np.array([score10_nb, score10_log])\n",
    "index = np.array([\"5-fold\", \"10-fold\"])\n",
    "results = pd.DataFrame([s5, s10], columns=['Naive Bayes', 'Logistic Regression'], index=index)\n",
    "print \"\\nAccuracy Results of Naive Bayes and Logistic Regression using 5-fold and 10-fold Cross Validation:\\n\"\n",
    "print results"
   ]
  },
  {
   "cell_type": "code",
   "execution_count": 15,
   "metadata": {},
   "outputs": [
    {
     "ename": "NameError",
     "evalue": "name 'score5_nb' is not defined",
     "output_type": "error",
     "traceback": [
      "\u001b[0;31m---------------------------------------------------------------------------\u001b[0m",
      "\u001b[0;31mNameError\u001b[0m                                 Traceback (most recent call last)",
      "\u001b[0;32m<ipython-input-15-45f2c8cb5a10>\u001b[0m in \u001b[0;36m<module>\u001b[0;34m()\u001b[0m\n\u001b[1;32m      2\u001b[0m \u001b[0;31m# It can be observed that the results are all very close to each other\u001b[0m\u001b[0;34m\u001b[0m\u001b[0;34m\u001b[0m\u001b[0m\n\u001b[1;32m      3\u001b[0m \u001b[0mx\u001b[0m \u001b[0;34m=\u001b[0m \u001b[0;34m[\u001b[0m\u001b[0;36m1\u001b[0m\u001b[0;34m,\u001b[0m \u001b[0;36m2\u001b[0m\u001b[0;34m,\u001b[0m \u001b[0;36m3\u001b[0m\u001b[0;34m,\u001b[0m \u001b[0;36m4\u001b[0m\u001b[0;34m]\u001b[0m\u001b[0;34m\u001b[0m\u001b[0m\n\u001b[0;32m----> 4\u001b[0;31m \u001b[0mdata\u001b[0m \u001b[0;34m=\u001b[0m \u001b[0;34m[\u001b[0m\u001b[0mscore5_nb\u001b[0m\u001b[0;34m,\u001b[0m \u001b[0mscore5_log\u001b[0m\u001b[0;34m,\u001b[0m \u001b[0mscore10_nb\u001b[0m\u001b[0;34m,\u001b[0m \u001b[0mscore10_log\u001b[0m\u001b[0;34m]\u001b[0m\u001b[0;34m\u001b[0m\u001b[0m\n\u001b[0m\u001b[1;32m      5\u001b[0m \u001b[0;34m\u001b[0m\u001b[0m\n\u001b[1;32m      6\u001b[0m \u001b[0mplt\u001b[0m\u001b[0;34m.\u001b[0m\u001b[0mbar\u001b[0m\u001b[0;34m(\u001b[0m\u001b[0mx\u001b[0m\u001b[0;34m,\u001b[0m \u001b[0mdata\u001b[0m\u001b[0;34m,\u001b[0m \u001b[0malign\u001b[0m\u001b[0;34m=\u001b[0m\u001b[0;34m'center'\u001b[0m\u001b[0;34m)\u001b[0m\u001b[0;34m\u001b[0m\u001b[0m\n",
      "\u001b[0;31mNameError\u001b[0m: name 'score5_nb' is not defined"
     ]
    }
   ],
   "source": [
    "# Use matplotlib.pyplot to print the results of all four tests\n",
    "# It can be observed that the results are all very close to each other\n",
    "x = [1, 2, 3, 4]\n",
    "data = [score5_nb, score5_log, score10_nb, score10_log]\n",
    "\n",
    "plt.bar(x, data, align='center')\n",
    "plt.title(\"All Accuracy Results\")\n",
    "plt.xlabel(\"Test\")\n",
    "plt.ylabel(\"Accuracy\")\n",
    "plt.axis((0.5, 4.5, 0, 1))\n",
    "plt.xticks(range(1, 5), ('NB 5', 'Log 5', 'NB 10', 'Log 10'))\n",
    "\n",
    "plt.show()"
   ]
  },
  {
   "cell_type": "code",
   "execution_count": null,
   "metadata": {
    "collapsed": true
   },
   "outputs": [],
   "source": []
  },
  {
   "cell_type": "code",
   "execution_count": null,
   "metadata": {
    "collapsed": true
   },
   "outputs": [],
   "source": []
  },
  {
   "cell_type": "code",
   "execution_count": null,
   "metadata": {
    "collapsed": true
   },
   "outputs": [],
   "source": []
  },
  {
   "cell_type": "code",
   "execution_count": null,
   "metadata": {
    "collapsed": true
   },
   "outputs": [],
   "source": []
  }
 ],
 "metadata": {
  "kernelspec": {
   "display_name": "Python [default]",
   "language": "python",
   "name": "python2"
  },
  "language_info": {
   "codemirror_mode": {
    "name": "ipython",
    "version": 2
   },
   "file_extension": ".py",
   "mimetype": "text/x-python",
   "name": "python",
   "nbconvert_exporter": "python",
   "pygments_lexer": "ipython2",
   "version": "2.7.13"
  }
 },
 "nbformat": 4,
 "nbformat_minor": 1
}
